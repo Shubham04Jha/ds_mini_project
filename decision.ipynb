{
 "cells": [
  {
   "cell_type": "code",
   "execution_count": 1,
   "metadata": {},
   "outputs": [
    {
     "name": "stderr",
     "output_type": "stream",
     "text": [
      "C:\\Users\\Shubham\\AppData\\Local\\Temp\\ipykernel_13296\\2685365961.py:18: FutureWarning: A value is trying to be set on a copy of a DataFrame or Series through chained assignment using an inplace method.\n",
      "The behavior will change in pandas 3.0. This inplace method will never work because the intermediate object on which we are setting values always behaves as a copy.\n",
      "\n",
      "For example, when doing 'df[col].method(value, inplace=True)', try using 'df.method({col: value}, inplace=True)' or df[col] = df[col].method(value) instead, to perform the operation inplace on the original object.\n",
      "\n",
      "\n",
      "  data['bmi'].fillna(data['bmi'].median(), inplace=True)\n"
     ]
    }
   ],
   "source": [
    "import pandas as pd\n",
    "import numpy as np\n",
    "from sklearn.preprocessing import LabelEncoder, StandardScaler\n",
    "from sklearn.model_selection import train_test_split\n",
    "from sklearn.metrics import classification_report\n",
    "from imblearn.over_sampling import SMOTE\n",
    "from sklearn.tree import DecisionTreeClassifier\n",
    "import joblib\n",
    "\n",
    "# Load the dataset (replace 'healthcare-dataset-stroke-data.csv' with your file path)\n",
    "data = pd.read_csv('healthcare-dataset-stroke-data.csv')\n",
    "\n",
    "# Drop 'id' column if present\n",
    "if 'id' in data.columns:\n",
    "    data = data.drop('id', axis=1)\n",
    "\n",
    "# Handle missing values\n",
    "data['bmi'].fillna(data['bmi'].median(), inplace=True)\n",
    "\n",
    "# Encode categorical variables\n",
    "le = LabelEncoder()\n",
    "categorical_cols = ['gender', 'hypertension', 'heart_disease', 'ever_married', 'work_type', 'Residence_type', 'smoking_status']\n",
    "for col in categorical_cols:\n",
    "    data[col] = le.fit_transform(data[col])\n",
    "\n",
    "# Create derived features\n",
    "data['age_glucose'] = data['age'] * data['avg_glucose_level']\n",
    "data['comorbidity'] = data['hypertension'] | data['heart_disease']\n",
    "data['age_group'] = pd.cut(data['age'], bins=[0, 40, 60, 120], labels=[0, 1, 2], include_lowest=True)\n",
    "data['age_group'] = data['age_group'].astype(int)\n",
    "\n",
    "# Define features and target\n",
    "X = data[['age', 'gender', 'hypertension', 'heart_disease', 'ever_married', 'work_type', 'Residence_type',\n",
    "          'avg_glucose_level', 'bmi', 'smoking_status', 'age_glucose', 'comorbidity', 'age_group']]\n",
    "y = data['stroke']\n",
    "\n",
    "# Split the data\n",
    "X_train, X_test, y_train, y_test = train_test_split(X, y, test_size=0.2, random_state=42, stratify=y)\n",
    "\n",
    "# Apply SMOTE to the training set\n",
    "smote = SMOTE(random_state=42)\n",
    "X_train_smote, y_train_smote = smote.fit_resample(X_train, y_train)\n",
    "\n",
    "# Scale the features\n",
    "scaler = StandardScaler()\n",
    "X_train_smote_scaled = scaler.fit_transform(X_train_smote)\n",
    "X_test_scaled = scaler.transform(X_test)"
   ]
  },
  {
   "cell_type": "code",
   "execution_count": 2,
   "metadata": {},
   "outputs": [
    {
     "name": "stdout",
     "output_type": "stream",
     "text": [
      "\n",
      "Decision Tree (SMOTE, Default Threshold) Test Set Performance:\n",
      "              precision    recall  f1-score   support\n",
      "\n",
      "           0       0.96      0.92      0.94       972\n",
      "           1       0.16      0.28      0.20        50\n",
      "\n",
      "    accuracy                           0.89      1022\n",
      "   macro avg       0.56      0.60      0.57      1022\n",
      "weighted avg       0.92      0.89      0.90      1022\n",
      "\n"
     ]
    }
   ],
   "source": [
    "# Initialize and train the Decision Tree\n",
    "dt_model = DecisionTreeClassifier(class_weight='balanced', random_state=42)\n",
    "dt_model.fit(X_train_smote_scaled, y_train_smote)\n",
    "\n",
    "# Predict on the test set (default threshold of 0.5)\n",
    "dt_pred = dt_model.predict(X_test_scaled)\n",
    "\n",
    "# Evaluate the model (default threshold)\n",
    "print(\"\\nDecision Tree (SMOTE, Default Threshold) Test Set Performance:\")\n",
    "print(classification_report(y_test, dt_pred))"
   ]
  },
  {
   "cell_type": "code",
   "execution_count": null,
   "metadata": {},
   "outputs": [],
   "source": []
  },
  {
   "cell_type": "code",
   "execution_count": 3,
   "metadata": {},
   "outputs": [
    {
     "name": "stdout",
     "output_type": "stream",
     "text": [
      "\n",
      "Decision Tree (SMOTE, Threshold=0.3) Test Set Performance:\n",
      "              precision    recall  f1-score   support\n",
      "\n",
      "           0       0.96      0.92      0.94       972\n",
      "           1       0.16      0.28      0.20        50\n",
      "\n",
      "    accuracy                           0.89      1022\n",
      "   macro avg       0.56      0.60      0.57      1022\n",
      "weighted avg       0.92      0.89      0.90      1022\n",
      "\n"
     ]
    }
   ],
   "source": [
    "# Get the predicted probabilities for the test set\n",
    "dt_prob = dt_model.predict_proba(X_test_scaled)[:, 1]\n",
    "\n",
    "# Adjust the decision threshold to 0.3\n",
    "threshold = 0.3\n",
    "dt_pred_adjusted = (dt_prob >= threshold).astype(int)\n",
    "\n",
    "# Evaluate the model (adjusted threshold)\n",
    "print(\"\\nDecision Tree (SMOTE, Threshold=0.3) Test Set Performance:\")\n",
    "print(classification_report(y_test, dt_pred_adjusted))"
   ]
  },
  {
   "cell_type": "code",
   "execution_count": 4,
   "metadata": {},
   "outputs": [
    {
     "name": "stdout",
     "output_type": "stream",
     "text": [
      "\n",
      "Naive Bayes (SMOTE, Default Threshold) Test Set Performance:\n",
      "              precision    recall  f1-score   support\n",
      "\n",
      "           0       0.98      0.73      0.84       972\n",
      "           1       0.12      0.72      0.21        50\n",
      "\n",
      "    accuracy                           0.73      1022\n",
      "   macro avg       0.55      0.73      0.52      1022\n",
      "weighted avg       0.94      0.73      0.81      1022\n",
      "\n"
     ]
    }
   ],
   "source": [
    "from sklearn.naive_bayes import GaussianNB\n",
    "\n",
    "# Initialize and train the Naive Bayes classifier\n",
    "nb_model = GaussianNB()\n",
    "nb_model.fit(X_train_smote_scaled, y_train_smote)\n",
    "\n",
    "# Predict on the test set (default threshold of 0.5)\n",
    "nb_pred = nb_model.predict(X_test_scaled)\n",
    "\n",
    "# Evaluate the model (default threshold)\n",
    "print(\"\\nNaive Bayes (SMOTE, Default Threshold) Test Set Performance:\")\n",
    "print(classification_report(y_test, nb_pred))"
   ]
  }
 ],
 "metadata": {
  "kernelspec": {
   "display_name": "mini",
   "language": "python",
   "name": "python3"
  },
  "language_info": {
   "codemirror_mode": {
    "name": "ipython",
    "version": 3
   },
   "file_extension": ".py",
   "mimetype": "text/x-python",
   "name": "python",
   "nbconvert_exporter": "python",
   "pygments_lexer": "ipython3",
   "version": "3.12.6"
  }
 },
 "nbformat": 4,
 "nbformat_minor": 2
}
